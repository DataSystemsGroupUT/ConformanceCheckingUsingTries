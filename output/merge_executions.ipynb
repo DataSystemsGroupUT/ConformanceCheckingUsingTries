{
 "cells": [
  {
   "cell_type": "code",
   "execution_count": 3,
   "metadata": {},
   "outputs": [],
   "source": [
    "import pandas as pd\n",
    "import os\n",
    "from functools import reduce\n",
    "\n",
    "folders = [\"distance\",\"fix1\",\"fix3\",\"fix5\",\"disc1\",\"disc3\",\"disc5\"]\n",
    "\n",
    "execution_dfs = {}\n",
    "\n",
    "for fol in folders:\n",
    "    files_list = os.listdir(os.path.join(fol))\n",
    "    for f in files_list:\n",
    "        if f[-4:] != \".csv\":\n",
    "            continue \n",
    "        df = pd.read_csv(os.path.join(fol, f))\n",
    "        file_type = f[16:-4]\n",
    "        df.columns = df.columns.str.replace(\"STREAMING\",\"STREAMING_\"+fol)\n",
    "        if file_type in execution_dfs:\n",
    "            execution_dfs[file_type].append(df)\n",
    "        else:\n",
    "            execution_dfs[file_type] = [df]\n",
    "\n",
    "for k,v in execution_dfs.items():\n",
    "    df = reduce(lambda l,r: pd.merge(l,r,on=['TraceId'],\n",
    "                                            how='outer'), v)\n",
    "    df.to_csv(os.path.join(k+\".csv\"))"
   ]
  }
 ],
 "metadata": {
  "interpreter": {
   "hash": "86a545e9c7c8a04a9f5ab582097b4968329114428a3fde0cf520c5aeef29910b"
  },
  "kernelspec": {
   "display_name": "Python 3.9.13 64-bit (windows store)",
   "language": "python",
   "name": "python3"
  },
  "language_info": {
   "codemirror_mode": {
    "name": "ipython",
    "version": 3
   },
   "file_extension": ".py",
   "mimetype": "text/x-python",
   "name": "python",
   "nbconvert_exporter": "python",
   "pygments_lexer": "ipython3",
   "version": "3.9.13"
  },
  "orig_nbformat": 4
 },
 "nbformat": 4,
 "nbformat_minor": 2
}
